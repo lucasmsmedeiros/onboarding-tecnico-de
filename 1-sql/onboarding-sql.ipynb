{
  "cells": [
    {
      "cell_type": "markdown",
      "metadata": {
        "id": "ls0vTQwK0C6z"
      },
      "source": [
        "# TESTE PRÁTICO DE LINGUAGEM DE CONSULTA ESTRUTURADA (SQL)\n",
        "Para a realização das atividades, você deverá executar as instruções abaixo para importar as bibliotecas e funções necessárias para criar a base de dados.\n",
        "\n",
        "Ao final, esperamos que você desenvolva os códigos selecionados e entregue o notebook com as consultas SQL desenvolvidas e o arquivo .db criado.\n",
        "\n",
        "O teste importará três arquivos cruciais para o desenvolvimento dessa atividade. Todos estão no Githun (não mude as URL's).\n",
        "\n",
        "*   usuarios.csv\n",
        "*   produtos.csv\n",
        "*   vendas.csv\n",
        "\n",
        "## O teste foi desenvolvido para ser executado com o SQLite3 e no Google Colab (Ubuntu 18.04). Você deverá utilizar consultas no padrão ANSI. Os comandos necessários podem ser encontrados em:\n",
        "\n",
        "https://www.sqlite.org/docs.html\n",
        "\n",
        "https://www.tutorialspoint.com/sqlite/index.htm\n",
        "\n"
      ]
    },
    {
      "cell_type": "code",
      "execution_count": 1,
      "metadata": {},
      "outputs": [],
      "source": [
        "from pyspark.sql import SparkSession\n",
        "\n",
        "\n",
        "spark = SparkSession.builder.master(\"local[*]\").getOrCreate()\n"
      ]
    },
    {
      "cell_type": "code",
      "execution_count": 84,
      "metadata": {},
      "outputs": [
        {
          "name": "stdout",
          "output_type": "stream",
          "text": [
            "Couldn't find program: 'bash'\n"
          ]
        }
      ],
      "source": [
        "%%bash\n",
        "mkdir bases_teste\n",
        "curl https://raw.githubusercontent.com/A3Data/bases_testes/main/bases_teste/produtos.csv -o bases_teste/produtos.csv\n",
        "curl https://raw.githubusercontent.com/A3Data/bases_testes/main/bases_teste/vendas.csv -o bases_teste/vendas.csv\n",
        "curl https://raw.githubusercontent.com/A3Data/bases_testes/main/bases_teste/usuarios.csv -o bases_teste/usuarios.csv"
      ]
    },
    {
      "cell_type": "code",
      "execution_count": 76,
      "metadata": {},
      "outputs": [],
      "source": [
        "# Setup Spark Session and Import Pandas\n",
        "\n",
        "from pyspark.sql import SparkSession\n",
        "\n",
        "spark = SparkSession.builder.appName(\"AtividadeSQL\").getOrCreate()"
      ]
    },
    {
      "cell_type": "code",
      "execution_count": 87,
      "metadata": {},
      "outputs": [],
      "source": [
        "def cria_tabela(path, nome_tabela):\n",
        "    df = spark.read.csv(path, inferSchema=True, header=True)\n",
        "    df.createOrReplaceTempView(nome_tabela)\n",
        "    return df\n",
        "\n",
        "usuarios = cria_tabela(\"bases_teste/usuarios.csv\", \"usuarios\")\n",
        "produtos = cria_tabela(\"bases_teste/produtos.csv\", \"produtos\")\n",
        "vendas = cria_tabela(\"bases_teste/vendas.csv\", \"vendas\")"
      ]
    },
    {
      "cell_type": "code",
      "execution_count": 52,
      "metadata": {},
      "outputs": [],
      "source": [
        "def q(query, n=30):\n",
        "    return spark.sql(query).show(n=n, truncate=False)"
      ]
    },
    {
      "cell_type": "markdown",
      "metadata": {
        "id": "nRJNYDRWTgiL"
      },
      "source": [
        "# PERGUNTA 1:\n",
        "\n",
        "### Escreva um comando em SQL que retorne a quantidade de vendas dos estados de Minas Gerais e São Paulo por ano e mês"
      ]
    },
    {
      "cell_type": "code",
      "execution_count": 108,
      "metadata": {
        "id": "ed_t8KnbRVz2"
      },
      "outputs": [
        {
          "name": "stdout",
          "output_type": "stream",
          "text": [
            "+----+---+----------+------------+\n",
            "|ANO |MES|QUANTIDADE|ESTADO      |\n",
            "+----+---+----------+------------+\n",
            "|2019|1  |20        |Minas Gerais|\n",
            "|2020|1  |8         |Minas Gerais|\n",
            "|2021|1  |21        |Minas Gerais|\n",
            "|2019|2  |2         |Minas Gerais|\n",
            "|2020|2  |10        |Minas Gerais|\n",
            "|2021|2  |75        |Minas Gerais|\n",
            "|2020|3  |14        |Minas Gerais|\n",
            "|2021|3  |6         |Minas Gerais|\n",
            "|2019|4  |26        |Minas Gerais|\n",
            "|2020|4  |1         |Minas Gerais|\n",
            "|2021|4  |58        |Minas Gerais|\n",
            "|2019|5  |11        |Minas Gerais|\n",
            "|2020|5  |44        |Minas Gerais|\n",
            "|2021|5  |22        |Minas Gerais|\n",
            "|2018|6  |10        |Minas Gerais|\n",
            "|2019|6  |1         |Minas Gerais|\n",
            "|2020|6  |18        |Minas Gerais|\n",
            "|2021|6  |16        |Minas Gerais|\n",
            "|2019|7  |14        |Minas Gerais|\n",
            "|2020|7  |30        |Minas Gerais|\n",
            "|2021|7  |61        |Minas Gerais|\n",
            "|2018|8  |16        |Minas Gerais|\n",
            "|2019|8  |15        |Minas Gerais|\n",
            "|2019|9  |27        |Minas Gerais|\n",
            "|2020|9  |44        |Minas Gerais|\n",
            "|2018|10 |20        |Minas Gerais|\n",
            "|2019|10 |3         |Minas Gerais|\n",
            "|2020|10 |8         |Minas Gerais|\n",
            "|2018|11 |10        |Minas Gerais|\n",
            "|2019|11 |1         |Minas Gerais|\n",
            "+----+---+----------+------------+\n",
            "only showing top 30 rows\n",
            "\n"
          ]
        }
      ],
      "source": [
        "q(\"\"\"\n",
        "SELECT\n",
        "    YEAR(data_compra) AS ANO, \n",
        "    MONTH(data_compra) AS MES, \n",
        "    SUM(quantidade) AS QUANTIDADE, \n",
        "    B.estado AS ESTADO \n",
        "\n",
        "FROM vendas A\n",
        "\n",
        "INNER JOIN usuarios AS B \n",
        "    on A.cod_usuario = B.cod_usuario\n",
        "\n",
        "WHERE B.estado IN ('Minas Gerais','São Paulo')\n",
        "\n",
        "GROUP BY ANO, MES, ESTADO\n",
        "\n",
        "ORDER BY ESTADO, MES, ANO\n",
        "\"\"\")"
      ]
    },
    {
      "cell_type": "markdown",
      "metadata": {
        "id": "tvNgeJxYTswO"
      },
      "source": [
        "# PERGUNTA 2:\n",
        "\n",
        "### Escreva um comando em SQL que retorne o ticket médio (valor médio de compra) e quantidade de compras realizadas dos usuários que fizeram compras entre 2019 e 2020 e que tiveram mais de 3 compras no período (lembre-se de contar todas as compras dos usuários que estão nessa condição!)"
      ]
    },
    {
      "cell_type": "code",
      "execution_count": 106,
      "metadata": {
        "id": "svQauyVNT-mH"
      },
      "outputs": [
        {
          "name": "stdout",
          "output_type": "stream",
          "text": [
            "+-------+------------+-------------------------+\n",
            "|USUARIO|TICKET_MEDIO|QTD_DE_COMPRAS_REALIZADAS|\n",
            "+-------+------------+-------------------------+\n",
            "|6      |6564.84     |8                        |\n",
            "|9      |26867.9     |5                        |\n",
            "|11     |5129.02     |6                        |\n",
            "|13     |20362.84    |4                        |\n",
            "|20     |2556.7      |6                        |\n",
            "|22     |8098.95     |6                        |\n",
            "|23     |5665.09     |7                        |\n",
            "|30     |3904.03     |7                        |\n",
            "|32     |11297.5     |4                        |\n",
            "|36     |2189.96     |4                        |\n",
            "|37     |7266.34     |4                        |\n",
            "|39     |19094.71    |11                       |\n",
            "|41     |4926.2      |10                       |\n",
            "|45     |5499.56     |6                        |\n",
            "|46     |4245.5      |5                        |\n",
            "|48     |19883.98    |8                        |\n",
            "|51     |18303.82    |6                        |\n",
            "|54     |14791.17    |5                        |\n",
            "|55     |2875.1      |6                        |\n",
            "|56     |11096.77    |6                        |\n",
            "|59     |16719.82    |6                        |\n",
            "|69     |25926.09    |4                        |\n",
            "|72     |4469.8      |4                        |\n",
            "|74     |14210.78    |4                        |\n",
            "|75     |10356.05    |5                        |\n",
            "|76     |4996.44     |4                        |\n",
            "|78     |960.17      |5                        |\n",
            "|80     |21939.85    |4                        |\n",
            "|84     |13816.1     |4                        |\n",
            "|86     |6553.8      |6                        |\n",
            "+-------+------------+-------------------------+\n",
            "only showing top 30 rows\n",
            "\n"
          ]
        }
      ],
      "source": [
        "q(\"\"\" \n",
        "\n",
        "    SELECT \n",
        "\n",
        "        cod_usuario AS USUARIO,\n",
        "        ROUND(AVG(valor), 2) AS TICKET_MEDIO, \n",
        "        COUNT(cod_usuario) AS QTD_DE_COMPRAS_REALIZADAS\n",
        "\n",
        "    FROM vendas\n",
        "\n",
        "    WHERE YEAR(data_compra) IN ('2019','2020')\n",
        "\n",
        "    GROUP BY cod_usuario\n",
        "\n",
        "    HAVING COUNT(cod_usuario) > 3\n",
        "     \n",
        "    ORDER BY cod_usuario\n",
        "\n",
        "\n",
        "\"\"\")"
      ]
    },
    {
      "cell_type": "markdown",
      "metadata": {
        "id": "GM_4SLAWT_ul"
      },
      "source": [
        "# PERGUNTA 3:\n",
        "\n",
        "### Escreva um comando em SQL que retorne quais são os usuários por estado que mais compraram em todo o período analisado e, o número de compras realizadas, a quantidade total de itens comprados e valor total pago"
      ]
    },
    {
      "cell_type": "code",
      "execution_count": 105,
      "metadata": {
        "id": "vhAIeozJUL9X"
      },
      "outputs": [
        {
          "name": "stdout",
          "output_type": "stream",
          "text": [
            "+-------+-------------------+----------------------------+-------------------------+----------------+\n",
            "|USUARIO|ESTADO             |NUMERO_DE_COMPRAS_REALIZADAS|QTD_TOTAL_ITENS_COMPRADOS|VALOR_TOTAL_PAGO|\n",
            "+-------+-------------------+----------------------------+-------------------------+----------------+\n",
            "|2811   |Maranhão           |13                          |117                      |184101.89       |\n",
            "|3403   |Rio Grande do Norte|10                          |94                       |136347.01       |\n",
            "|2843   |Paraná             |10                          |114                      |137228.01       |\n",
            "|2340   |Mato Grosso        |9                           |112                      |165197.3        |\n",
            "|1074   |Santa Catarina     |9                           |66                       |159165.18       |\n",
            "|2981   |Bahia              |9                           |70                       |126282.4        |\n",
            "|28     |Rio Grande do Sul  |9                           |76                       |29114.45        |\n",
            "|3090   |Minas Gerais       |9                           |93                       |95697.3         |\n",
            "|700    |Goiás              |9                           |74                       |142389.09       |\n",
            "|2551   |Santa Catarina     |9                           |88                       |187513.66       |\n",
            "|1752   |Tocantins          |8                           |80                       |97028.45        |\n",
            "|1787   |Ceará              |8                           |79                       |121494.67       |\n",
            "|441    |Maranhão           |8                           |95                       |14945.13        |\n",
            "|1756   |São Paulo          |8                           |73                       |134413.0        |\n",
            "|2438   |Minas Gerais       |8                           |91                       |95031.67        |\n",
            "|2216   |Minas Gerais       |7                           |75                       |85841.41        |\n",
            "|1192   |Mato Grosso        |7                           |76                       |16001.5         |\n",
            "|2646   |Pernambuco         |7                           |84                       |135556.7        |\n",
            "|796    |Minas Gerais       |7                           |56                       |28161.0         |\n",
            "|191    |Maranhão           |7                           |69                       |26216.35        |\n",
            "|2186   |Amapá              |7                           |61                       |51359.34        |\n",
            "|3358   |Goiás              |7                           |58                       |136881.19       |\n",
            "|1415   |Rio Grande do Sul  |7                           |51                       |3015.63         |\n",
            "|3040   |São Paulo          |7                           |74                       |54400.24        |\n",
            "|2669   |Pernambuco         |7                           |56                       |37119.0         |\n",
            "|2856   |Bahia              |7                           |71                       |71986.05        |\n",
            "|1947   |Minas Gerais       |6                           |70                       |62296.63        |\n",
            "|679    |Mato Grosso do Sul |6                           |102                      |152271.96       |\n",
            "|2183   |Santa Catarina     |6                           |46                       |8069.51         |\n",
            "|2920   |São Paulo          |6                           |59                       |75686.31        |\n",
            "+-------+-------------------+----------------------------+-------------------------+----------------+\n",
            "only showing top 30 rows\n",
            "\n"
          ]
        }
      ],
      "source": [
        "q(\"\"\" \n",
        "\n",
        "    SELECT \n",
        "\n",
        "        v.cod_usuario AS USUARIO,\n",
        "        u.estado AS ESTADO,\n",
        "        COUNT(v.cod_usuario) AS NUMERO_DE_COMPRAS_REALIZADAS,\n",
        "        SUM(quantidade) AS QTD_TOTAL_ITENS_COMPRADOS,\n",
        "        ROUND(SUM(valor),2) AS VALOR_TOTAL_PAGO\n",
        "\n",
        "    FROM vendas AS v\n",
        "\n",
        "    INNER JOIN usuarios AS u on v.cod_usuario == u.cod_usuario\n",
        "\n",
        "    GROUP BY USUARIO, ESTADO\n",
        "\n",
        "    ORDER BY NUMERO_DE_COMPRAS_REALIZADAS DESC\n",
        "    \n",
        "\"\"\")"
      ]
    },
    {
      "cell_type": "markdown",
      "metadata": {
        "id": "dJdjxIQSUMwC"
      },
      "source": [
        "# PERGUNTA 4:\n",
        "\n",
        "### Escreva um comando em SQL que retorne quais são os 3 produtos mais comprados dos estados da região Sul e Sudeste, a quantidade de itens comprados, o valor total pago e a média de preço paga"
      ]
    },
    {
      "cell_type": "code",
      "execution_count": 109,
      "metadata": {
        "id": "c-KIw9HKUgDT"
      },
      "outputs": [
        {
          "name": "stdout",
          "output_type": "stream",
          "text": [
            "+---------------------------+-------------------+----------------+----------------+\n",
            "|NOME_PRODUTO               |QTD_ITENS_COMPRADOS|VALOR_TOTAL_PAGO|MEDIA_PRECO_PAGO|\n",
            "+---------------------------+-------------------+----------------+----------------+\n",
            "|Alcool em Gel 70% Johnson  |280                |1397.2          |53.74           |\n",
            "|Escrivaninha em L          |141                |61617.0         |4739.77         |\n",
            "|Notebook Asus Intel Core i7|134                |615180.6        |43941.47        |\n",
            "+---------------------------+-------------------+----------------+----------------+\n",
            "\n"
          ]
        }
      ],
      "source": [
        "q(\"\"\" \n",
        "\n",
        "    SELECT \n",
        "        \n",
        "        p.nome_produto AS NOME_PRODUTO,\n",
        "        SUM(v.quantidade) AS QTD_ITENS_COMPRADOS,\n",
        "        ROUND(SUM(v.valor), 2) AS VALOR_TOTAL_PAGO,\n",
        "        ROUND(AVG(v.valor), 2) AS MEDIA_PRECO_PAGO\n",
        "\n",
        "    FROM vendas as v\n",
        "\n",
        "    INNER JOIN produtos AS p ON v.cod_produto == p.cod_produto\n",
        "    LEFT JOIN usuarios AS u ON v.cod_usuario == u.cod_usuario\n",
        "\n",
        "    WHERE u.estado IN ('Rio de Janeiro','Minas Gerais','São Paulo','Espirito Santo','Rio Grande do Sul', 'Paraná','Santa Catarina')\n",
        "\n",
        "    GROUP BY p.nome_produto\n",
        "    \n",
        "    ORDER BY QTD_ITENS_COMPRADOS DESC\n",
        "\n",
        "    LIMIT 3\n",
        "\"\"\")"
      ]
    },
    {
      "cell_type": "markdown",
      "metadata": {
        "id": "bmx2pcfKUv-m"
      },
      "source": [
        "# PERGUNTA 5:\n",
        "\n",
        "### Escreva um comando em SQL que retorne o ticket médio e o número total de usuários que fizeram pelo menos uma compra por faixa etária"
      ]
    },
    {
      "cell_type": "code",
      "execution_count": 118,
      "metadata": {
        "id": "UjYCTpfaVBDg"
      },
      "outputs": [
        {
          "name": "stdout",
          "output_type": "stream",
          "text": [
            "+------------+---------------------+------------------+\n",
            "|TICKET_MEDIO|NUMERO_TOTAL_USUARIOS|FAIXA_ETARIA      |\n",
            "+------------+---------------------+------------------+\n",
            "|12203.02    |64                   |Entre 22 a 27 anos|\n",
            "|8890.13     |43                   |Entre 10 a 15 anos|\n",
            "|12725.95    |50                   |Entre 16 a 21 anos|\n",
            "|10849.48    |80                   |Entre 50 a 61 anos|\n",
            "|16727.19    |42                   |Entre 37 a 49 anos|\n",
            "|10012.63    |39                   |Entre 62 a 70 anos|\n",
            "|8233.04     |56                   |Entre 28 a 36 anos|\n",
            "|11303.1     |29                   |Mais de 70 anos   |\n",
            "+------------+---------------------+------------------+\n",
            "\n"
          ]
        }
      ],
      "source": [
        "q(\"\"\" \n",
        "\n",
        "    SELECT \n",
        "        \n",
        "        ROUND(AVG(v.valor), 2) AS TICKET_MEDIO,\n",
        "        COUNT(v.cod_usuario) AS NUMERO_TOTAL_USUARIOS,  \n",
        "        u.faixa_etaria AS FAIXA_ETARIA \n",
        "\n",
        "    FROM vendas AS v\n",
        "\n",
        "    INNER JOIN usuarios AS u ON v.cod_usuario == u.cod_usuario\n",
        "    \n",
        "    GROUP BY FAIXA_ETARIA\n",
        "\n",
        "\"\"\")"
      ]
    },
    {
      "cell_type": "markdown",
      "metadata": {
        "id": "fex3Fh4NVCQw"
      },
      "source": [
        "# PERGUNTA 6:\n",
        "\n",
        "### Escreva um comando em SQL que aplique um desconto de 10% em todas as vendas dos usuários que fizeram pelo menos 3 compras de produtos na mesma categoria, a partir da 4ª compra realizada. Exiba apenas os usuários que terão o desconto aplicado, mantendo todas as compras, o valor original e o valor com o desconto aplicado"
      ]
    },
    {
      "cell_type": "code",
      "execution_count": 206,
      "metadata": {},
      "outputs": [],
      "source": [
        "teste = spark.sql(\"\"\"\n",
        "\n",
        "    SELECT\n",
        "\n",
        "        cod_usuario,\n",
        "        data_compra,\n",
        "        categoria_produto,\n",
        "        ROW_NUMBER() OVER(PARTITION BY cod_usuario, categoria_produto ORDER BY data_compra) as Row\n",
        "\n",
        "    FROM vendas AS v\n",
        "\n",
        "    INNER JOIN produtos AS p ON p.cod_produto = v.cod_produto\n",
        "\n",
        "    GROUP BY cod_usuario, data_compra, categoria_produto\n",
        "\n",
        "    ORDER BY cod_usuario, categoria_produto, data_compra\n",
        "\n",
        "    \n",
        "\"\"\")\n",
        "\n",
        "tabela_temporaria = teste.createOrReplaceTempView('tabela_temporaria')"
      ]
    },
    {
      "cell_type": "code",
      "execution_count": 234,
      "metadata": {},
      "outputs": [
        {
          "name": "stdout",
          "output_type": "stream",
          "text": [
            "+-----------+-------------------+----------------------+---+\n",
            "|cod_usuario|data_compra        |categoria_produto     |Row|\n",
            "+-----------+-------------------+----------------------+---+\n",
            "|16         |2021-01-18 00:00:00|Casa e bem-estar      |1  |\n",
            "|16         |2021-04-29 00:00:00|Jogos                 |1  |\n",
            "|16         |2021-05-09 00:00:00|Lazer                 |1  |\n",
            "|16         |2020-11-20 00:00:00|Material de escritorio|1  |\n",
            "|16         |2021-05-29 00:00:00|Produtos de limpeza   |1  |\n",
            "|16         |2021-07-25 00:00:00|Produtos de limpeza   |2  |\n",
            "|16         |2020-12-06 00:00:00|Tecnologia            |1  |\n",
            "|16         |2020-12-11 00:00:00|Tecnologia            |2  |\n",
            "|16         |2021-01-13 00:00:00|Tecnologia            |3  |\n",
            "|16         |2021-02-16 00:00:00|Tecnologia            |4  |\n",
            "|16         |2021-05-23 00:00:00|Tecnologia            |5  |\n",
            "+-----------+-------------------+----------------------+---+\n",
            "\n"
          ]
        }
      ],
      "source": [
        "q(\"\"\"\n",
        "\n",
        "    SELECT\n",
        "    \n",
        "        * from tabela_temporaria\n",
        "\n",
        "    where cod_usuario = 16\n",
        "\n",
        "\"\"\")  "
      ]
    },
    {
      "cell_type": "code",
      "execution_count": 241,
      "metadata": {},
      "outputs": [
        {
          "name": "stdout",
          "output_type": "stream",
          "text": [
            "+--------+--------------+------------------+------+\n",
            "|USUARIOS|VALOR_ORIGINAL|VALOR_COM_DESCONTO|MAXIMO|\n",
            "+--------+--------------+------------------+------+\n",
            "|16      |32136.3       |28922.67          |4     |\n",
            "|16      |4672.8        |4205.52           |4     |\n",
            "|16      |26643.5       |23979.15          |4     |\n",
            "|16      |68863.5       |61977.15          |4     |\n",
            "|16      |41318.1       |37186.29          |4     |\n",
            "|16      |4672.8        |4205.52           |5     |\n",
            "|16      |32136.3       |28922.67          |5     |\n",
            "|16      |68863.5       |61977.15          |5     |\n",
            "|16      |26643.5       |23979.15          |5     |\n",
            "|16      |41318.1       |37186.29          |5     |\n",
            "+--------+--------------+------------------+------+\n",
            "\n"
          ]
        }
      ],
      "source": [
        "q(\"\"\"\n",
        "\n",
        "    SELECT\n",
        "    \n",
        "        v.cod_usuario AS USUARIOS,\n",
        "        v.valor AS VALOR_ORIGINAL,\n",
        "        CASE WHEN temp.Row > 3 THEN (v.valor*0.9) ELSE v.valor END AS VALOR_COM_DESCONTO,\n",
        "        MAX(temp.Row) as MAXIMO\n",
        "\n",
        "    FROM vendas AS v\n",
        "\n",
        "    INNER JOIN produtos AS p ON v.cod_produto == p.cod_produto\n",
        "\n",
        "    JOIN tabela_temporaria AS temp ON v.cod_usuario == temp.cod_usuario and p.categoria_produto == temp.categoria_produto\n",
        "\n",
        "    WHERE V.cod_usuario = 16\n",
        "\n",
        "    GROUP BY v.cod_usuario, v.valor, temp.Row, p.categoria_produto\n",
        "\n",
        "    HAVING MAXIMO > 3\n",
        "\n",
        "    ORDER BY v.cod_usuario, MAXIMO\n",
        "\n",
        "\"\"\")  "
      ]
    },
    {
      "cell_type": "code",
      "execution_count": 232,
      "metadata": {
        "id": "9iXs_R3tVMdI"
      },
      "outputs": [
        {
          "name": "stdout",
          "output_type": "stream",
          "text": [
            "+--------+--------------+------------------+------+\n",
            "|USUARIOS|VALOR_ORIGINAL|VALOR_COM_DESCONTO|MAXIMO|\n",
            "+--------+--------------+------------------+------+\n",
            "|3       |36727.2       |33054.479999999996|4     |\n",
            "|6       |439.14        |395.226           |4     |\n",
            "|16      |41318.1       |37186.29          |4     |\n",
            "|16      |4672.8        |4205.52           |5     |\n",
            "|17      |94.8          |85.32             |4     |\n",
            "|17      |118.5         |106.65            |5     |\n",
            "|23      |24709.31      |22238.379         |4     |\n",
            "|34      |2699.7        |2429.73           |4     |\n",
            "|37      |899.9         |809.91            |4     |\n",
            "|39      |50499.9       |45449.91          |4     |\n",
            "|41      |39.92         |35.928000000000004|4     |\n",
            "|87      |19507.35      |17556.614999999998|4     |\n",
            "|101     |7.9           |7.11              |4     |\n",
            "|106     |6555.0        |5899.5            |4     |\n",
            "|123     |10.0          |9.0               |4     |\n",
            "|132     |16198.2       |14578.380000000001|4     |\n",
            "|132     |9929.7        |8936.730000000001 |4     |\n",
            "|166     |158.0         |142.20000000000002|4     |\n",
            "|184     |17997.3       |16197.57          |4     |\n",
            "|203     |74.85         |67.365            |4     |\n",
            "|207     |706.8         |636.12            |4     |\n",
            "|207     |8303.0        |7472.7            |5     |\n",
            "|232     |9420.46       |8478.413999999999 |4     |\n",
            "|235     |9345.6        |8411.04           |4     |\n",
            "|268     |36727.2       |33054.479999999996|4     |\n",
            "|286     |412.3         |371.07            |4     |\n",
            "|314     |7009.2        |6308.28           |4     |\n",
            "|319     |465.0         |418.5             |4     |\n",
            "|319     |22108.33      |19897.497000000003|5     |\n",
            "|341     |41993.7       |37794.33          |4     |\n",
            "+--------+--------------+------------------+------+\n",
            "only showing top 30 rows\n",
            "\n"
          ]
        }
      ],
      "source": [
        "q(\"\"\"\n",
        "\n",
        "    SELECT\n",
        "    \n",
        "        v.cod_usuario AS USUARIOS,\n",
        "        v.valor AS VALOR_ORIGINAL,\n",
        "        CASE WHEN temp.Row > 3 THEN (v.valor*0.9) ELSE v.valor END AS VALOR_COM_DESCONTO,\n",
        "        MAX(temp.Row) as MAXIMO\n",
        "\n",
        "    FROM vendas AS v\n",
        "\n",
        "    INNER JOIN produtos AS p ON v.cod_produto == p.cod_produto\n",
        "\n",
        "    JOIN tabela_temporaria AS temp ON v.cod_usuario == temp.cod_usuario and p.categoria_produto == temp.categoria_produto and v.data_compra == temp.data_compra\n",
        "\n",
        "    GROUP BY v.cod_usuario, v.valor, temp.Row, p.categoria_produto\n",
        "    \n",
        "    HAVING MAXIMO > 3\n",
        "\n",
        "    ORDER BY v.cod_usuario\n",
        "\n",
        "\"\"\")  "
      ]
    },
    {
      "cell_type": "markdown",
      "metadata": {
        "id": "clJo4yCJVM8W"
      },
      "source": [
        "# PERGUNTA 7\n",
        "\n",
        "### Escreva um comando em SQL que retorna o produto, quantos usuários fizeram pelo menos uma compra desse produto e qual é o valor mínimo e máximo pago"
      ]
    },
    {
      "cell_type": "code",
      "execution_count": 155,
      "metadata": {
        "id": "u1gqzHI6WeAM"
      },
      "outputs": [
        {
          "name": "stdout",
          "output_type": "stream",
          "text": [
            "+-----------------------------------+------------+-----------------+-----------------+\n",
            "|PRODUTO                            |QTD_USUARIOS|VALOR_MINIMO_PAGO|VALOR_MAXIMO_PAGO|\n",
            "+-----------------------------------+------------+-----------------+-----------------+\n",
            "|Bicicleta Caloi Aro 29             |775         |1345.78          |26915.6          |\n",
            "|Cafeteira Nespresso                |832         |219.57           |4391.4           |\n",
            "|Notebook Asus Intel Core i7        |825         |4590.9           |91818.0          |\n",
            "|Aparelho de Barbear OneBlade Philco|818         |129.9            |2598.0           |\n",
            "|SPA Intel 700 L                    |839         |5999.1           |119982.0         |\n",
            "|Jogo Mortal Kombat 11 PS4          |847         |49.9             |998.0            |\n",
            "|Umidificador de Ar Cadence         |788         |77.5             |1550.0           |\n",
            "|Blusa Lacoste                      |812         |138.99           |2779.8           |\n",
            "|Alcool em Gel 70% Johnson          |837         |4.99             |99.8             |\n",
            "|Monitor LG 19 pol curvado          |842         |584.1            |11682.0          |\n",
            "|Escrivaninha em L                  |860         |437.0            |8740.0           |\n",
            "|Lenço umedecido Turma da Monica    |880         |7.9              |158.0            |\n",
            "|Kit 3 barras de chocolate Alpino   |809         |9.9              |198.0            |\n",
            "|Ar-condicionado 9500 BTUs LG       |863         |1300.49          |26009.8          |\n",
            "|Mochila Targus                     |833         |58.9             |1178.0           |\n",
            "|Cadeira Gamer Xpress               |838         |699.9            |13998.0          |\n",
            "|Biscoito Chocolicia Chocolate      |832         |5.0              |100.0            |\n",
            "|SmartTV Samsung 4K 55 polegadas    |856         |2499.9           |49998.0          |\n",
            "|Smartphone Samsung                 |823         |2049.5           |40990.0          |\n",
            "|Sofa 3 lugares                     |845         |899.9            |17998.0          |\n",
            "|Microoondas 35L                    |847         |389.1            |7782.0           |\n",
            "+-----------------------------------+------------+-----------------+-----------------+\n",
            "\n"
          ]
        }
      ],
      "source": [
        "q(\"\"\"\n",
        "\n",
        "    SELECT\n",
        "    \n",
        "        p.nome_produto AS PRODUTO, \n",
        "        COUNT(DISTINCT v.cod_usuario) AS QTD_USUARIOS,\n",
        "        MIN(v.valor) AS VALOR_MINIMO_PAGO,\n",
        "        MAX(v.valor) AS VALOR_MAXIMO_PAGO\n",
        "\n",
        "    FROM vendas AS v\n",
        "\n",
        "    INNER JOIN produtos AS p ON v.cod_produto == p.cod_produto\n",
        "    LEFT JOIN usuarios AS u ON v.cod_usuario == u.cod_usuario\n",
        "\n",
        "    GROUP BY PRODUTO\n",
        "    \n",
        "\"\"\")  "
      ]
    },
    {
      "cell_type": "markdown",
      "metadata": {
        "id": "GeTVczKEwgsa"
      },
      "source": [
        "# PERGUNTA 8\n",
        "\n",
        "### Escreva um comando em SQL que retorne o total de compras realizadas, o total de itens comprados e a receita total obtida"
      ]
    },
    {
      "cell_type": "code",
      "execution_count": 149,
      "metadata": {
        "id": "yA8QeAYCwlqs"
      },
      "outputs": [
        {
          "name": "stdout",
          "output_type": "stream",
          "text": [
            "+------------------------+---------------------+--------------------+\n",
            "|TOTAL_COMPRAS_REALIZADAS|TOTAL_ITENS_COMPRADOS|RECEITA_TOTAL_OBTIDA|\n",
            "+------------------------+---------------------+--------------------+\n",
            "|20000                   |209149               |215849002           |\n",
            "+------------------------+---------------------+--------------------+\n",
            "\n"
          ]
        }
      ],
      "source": [
        "q(\"\"\"\n",
        "\n",
        "    SELECT\n",
        "    \n",
        "        COUNT(cod_usuario) AS TOTAL_COMPRAS_REALIZADAS,\n",
        "        SUM(quantidade) AS TOTAL_ITENS_COMPRADOS,\n",
        "        CAST(SUM(valor) AS NUMERIC) AS RECEITA_TOTAL_OBTIDA\n",
        "\n",
        "    FROM vendas\n",
        "    \n",
        "\"\"\")  "
      ]
    },
    {
      "cell_type": "markdown",
      "metadata": {
        "id": "x-z1FIOswmUD"
      },
      "source": [
        "# PERGUNTA 9\n",
        "\n",
        "### Escreva um comando em SQL que retorne o produto, a quantidade de itens vendidos e a receita do produto que tem mais itens vendidos por ano e mês"
      ]
    },
    {
      "cell_type": "code",
      "execution_count": 142,
      "metadata": {
        "id": "NAS6MB4tJkgb"
      },
      "outputs": [
        {
          "name": "stdout",
          "output_type": "stream",
          "text": [
            "+-----------------------------------+------------------+---------------+----+---+\n",
            "|NOME_PRODUTO                       |QTD_ITENS_VENDIDOS|RECEITA_PRODUTO|ANO |MES|\n",
            "+-----------------------------------+------------------+---------------+----+---+\n",
            "|SPA Intel 700 L                    |1628              |9766534.8      |2021|7  |\n",
            "|Jogo Mortal Kombat 11 PS4          |1442              |71955.8        |2021|7  |\n",
            "|Mochila Targus                     |1420              |83638.0        |2021|7  |\n",
            "|Monitor LG 19 pol curvado          |1365              |797296.5       |2021|7  |\n",
            "|Alcool em Gel 70% Johnson          |1361              |6791.39        |2021|7  |\n",
            "|Cafeteira Nespresso                |1336              |293345.52      |2021|7  |\n",
            "|Escrivaninha em L                  |1335              |583395.0       |2021|7  |\n",
            "|Lenço umedecido Turma da Monica    |1322              |10443.8        |2021|7  |\n",
            "|Kit 3 barras de chocolate Alpino   |1296              |12830.4        |2021|7  |\n",
            "|Bicicleta Caloi Aro 29             |1291              |1737401.98     |2021|7  |\n",
            "|Sofa 3 lugares                     |1289              |1159971.1      |2021|7  |\n",
            "|Cadeira Gamer Xpress               |1276              |893072.4       |2021|7  |\n",
            "|Blusa Lacoste                      |1258              |174849.42      |2021|7  |\n",
            "|Smartphone Samsung                 |1247              |2555726.5      |2021|7  |\n",
            "|Microoondas 35L                    |1234              |480149.4       |2021|7  |\n",
            "|Ar-condicionado 9500 BTUs LG       |1217              |1582696.33     |2021|7  |\n",
            "|Aparelho de Barbear OneBlade Philco|1212              |157438.8       |2021|6  |\n",
            "|Umidificador de Ar Cadence         |1183              |91682.5        |2021|7  |\n",
            "|SmartTV Samsung 4K 55 polegadas    |1183              |2957381.7      |2021|7  |\n",
            "|Biscoito Chocolicia Chocolate      |1127              |5635.0         |2021|7  |\n",
            "|Aparelho de Barbear OneBlade Philco|1079              |140162.1       |2021|7  |\n",
            "|Notebook Asus Intel Core i7        |1035              |4751581.5      |2021|7  |\n",
            "|Alcool em Gel 70% Johnson          |1034              |5159.66        |2021|6  |\n",
            "|Lenço umedecido Turma da Monica    |996               |7868.4         |2021|6  |\n",
            "|SmartTV Samsung 4K 55 polegadas    |992               |2479900.8      |2021|6  |\n",
            "|Monitor LG 19 pol curvado          |958               |559567.8       |2021|6  |\n",
            "|Notebook Asus Intel Core i7        |949               |4356764.1      |2021|6  |\n",
            "|Kit 3 barras de chocolate Alpino   |945               |9355.5         |2021|6  |\n",
            "|Cadeira Gamer Xpress               |931               |651606.9       |2021|6  |\n",
            "|Escrivaninha em L                  |901               |393737.0       |2021|6  |\n",
            "+-----------------------------------+------------------+---------------+----+---+\n",
            "only showing top 30 rows\n",
            "\n"
          ]
        }
      ],
      "source": [
        "q(\"\"\"\n",
        "\n",
        "    SELECT\n",
        "        p.nome_produto AS NOME_PRODUTO,\n",
        "        SUM(v.quantidade) AS QTD_ITENS_VENDIDOS,\n",
        "        ROUND(SUM(v.valor), 2) AS RECEITA_PRODUTO,\n",
        "        YEAR(data_compra) AS ANO,\n",
        "        MONTH(data_compra) AS MES\n",
        "\n",
        "    FROM vendas AS v\n",
        "\n",
        "    INNER JOIN produtos AS p ON v.cod_produto == p.cod_produto\n",
        "\n",
        "    GROUP BY NOME_PRODUTO, ANO, MES\n",
        "   \n",
        "    ORDER BY QTD_ITENS_VENDIDOS DESC\n",
        "\n",
        "\"\"\")  "
      ]
    },
    {
      "cell_type": "markdown",
      "metadata": {
        "id": "kYhMnhWz_nFA"
      },
      "source": [
        "# PERGUNTA 10\n",
        "\n",
        "### Escreva um comando em SQL que exiba quem são os usuários que compraram produtos diferentes"
      ]
    },
    {
      "cell_type": "code",
      "execution_count": 141,
      "metadata": {
        "id": "jcVJtqUs_uDp"
      },
      "outputs": [
        {
          "name": "stdout",
          "output_type": "stream",
          "text": [
            "+--------+\n",
            "|USUARIOS|\n",
            "+--------+\n",
            "|1       |\n",
            "|2       |\n",
            "|3       |\n",
            "|4       |\n",
            "|5       |\n",
            "|6       |\n",
            "|7       |\n",
            "|8       |\n",
            "|9       |\n",
            "|10      |\n",
            "|11      |\n",
            "|12      |\n",
            "|13      |\n",
            "|14      |\n",
            "|15      |\n",
            "|16      |\n",
            "|17      |\n",
            "|18      |\n",
            "|19      |\n",
            "|20      |\n",
            "|21      |\n",
            "|22      |\n",
            "|23      |\n",
            "|24      |\n",
            "|25      |\n",
            "|26      |\n",
            "|27      |\n",
            "|28      |\n",
            "|29      |\n",
            "|30      |\n",
            "+--------+\n",
            "only showing top 30 rows\n",
            "\n"
          ]
        }
      ],
      "source": [
        "q(\"\"\"\n",
        "\n",
        "    SELECT\n",
        "        cod_usuario AS USUARIOS\n",
        "\n",
        "    FROM vendas\n",
        "\n",
        "    GROUP BY USUARIOS\n",
        "\n",
        "    HAVING COUNT(DISTINCT cod_produto) > 1\n",
        "\n",
        "    ORDER BY USUARIOS\n",
        "\n",
        "\n",
        "\"\"\")    "
      ]
    },
    {
      "cell_type": "markdown",
      "metadata": {
        "id": "LufSnB1S_ukA"
      },
      "source": [
        "# PERGUNTA 11\n",
        "\n",
        "### Escreva um comando em SQL que verifique usuários que não fizeram nenhuma compra"
      ]
    },
    {
      "cell_type": "code",
      "execution_count": 114,
      "metadata": {
        "id": "TWOczWW4_zTX"
      },
      "outputs": [
        {
          "name": "stdout",
          "output_type": "stream",
          "text": [
            "+--------+\n",
            "|USUARIOS|\n",
            "+--------+\n",
            "|3499    |\n",
            "|3504    |\n",
            "|3516    |\n",
            "|3556    |\n",
            "|3560    |\n",
            "|3564    |\n",
            "|3692    |\n",
            "|3754    |\n",
            "|3764    |\n",
            "|3829    |\n",
            "|3837    |\n",
            "|3861    |\n",
            "|3879    |\n",
            "|4020    |\n",
            "|4251    |\n",
            "|4269    |\n",
            "|4334    |\n",
            "|4391    |\n",
            "|4431    |\n",
            "|4443    |\n",
            "|4725    |\n",
            "|4850    |\n",
            "|4909    |\n",
            "|4995    |\n",
            "|5049    |\n",
            "|5098    |\n",
            "|5133    |\n",
            "|5229    |\n",
            "|5245    |\n",
            "|5247    |\n",
            "+--------+\n",
            "only showing top 30 rows\n",
            "\n"
          ]
        }
      ],
      "source": [
        "q(\"\"\"\n",
        "\n",
        "    SELECT\n",
        "        cod_usuario AS USUARIOS \n",
        "    \n",
        "    FROM usuarios\n",
        "\n",
        "    WHERE cod_usuario NOT IN\n",
        "        (SELECT a.cod_usuario FROM vendas a)\n",
        "\n",
        "ORDER BY cod_usuario\n",
        "\n",
        "\"\"\")\n",
        "\n"
      ]
    }
  ],
  "metadata": {
    "colab": {
      "collapsed_sections": [],
      "name": "TESTE PRÁTICO - SQL.ipynb",
      "provenance": []
    },
    "kernelspec": {
      "display_name": "Python 3.10.5 64-bit",
      "language": "python",
      "name": "python3"
    },
    "language_info": {
      "codemirror_mode": {
        "name": "ipython",
        "version": 3
      },
      "file_extension": ".py",
      "mimetype": "text/x-python",
      "name": "python",
      "nbconvert_exporter": "python",
      "pygments_lexer": "ipython3",
      "version": "3.10.5"
    },
    "vscode": {
      "interpreter": {
        "hash": "0f4aad36e1a7834f44c14e84b98527cfbefef55e7a336cfec74130d804d73c8f"
      }
    }
  },
  "nbformat": 4,
  "nbformat_minor": 0
}
